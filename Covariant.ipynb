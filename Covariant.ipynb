{
 "cells": [
  {
   "cell_type": "markdown",
   "metadata": {},
   "source": [
    "# header text\n",
    "$$\\vec{R} = \\begin{bmatrix}\n",
    "           R_{x}\\\\\n",
    "           R_{y} \\\\\n",
    "           R_{z}\n",
    "         \\end{bmatrix}\n",
    "         =\\begin{bmatrix}\n",
    "           -  \\frac{cos\\theta}{sin\\theta}cos\\phi \\frac{\\partial }{\\partial \\phi}  - sin\\phi \\frac{\\partial }{\\partial \\theta}\n",
    "           \\\\\n",
    "           -  \\frac{cos\\theta}{sin\\theta}cos\\phi \\frac{\\partial }{\\partial \\phi}  + cos\\phi \\frac{\\partial }{\\partial \\theta} \n",
    "           \\\\\n",
    "           \\frac{\\partial }{\\partial \\phi} \n",
    "         \\end{bmatrix}\n",
    "         $$"
   ]
  },
  {
   "cell_type": "latex",
   "metadata": {},
   "source": [
    "\phi"
   ]
  },
  {
   "cell_type": "markdown",
   "metadata": {},
   "source": [
    "So the rotational gradient operator is now:"
   ]
  },
  {
   "cell_type": "markdown",
   "metadata": {},
   "source": [
    "\n"
   ]
  }
 ],
 "metadata": {
  "kernelspec": {
   "display_name": "Python 3",
   "language": "python",
   "name": "python3"
  },
  "language_info": {
   "codemirror_mode": {
    "name": "ipython",
    "version": 3
   },
   "file_extension": ".py",
   "mimetype": "text/x-python",
   "name": "python",
   "nbconvert_exporter": "python",
   "pygments_lexer": "ipython3",
   "version": "3.5.2"
  }
 },
 "nbformat": 4,
 "nbformat_minor": 1
}
