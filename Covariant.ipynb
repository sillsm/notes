"cells": [
  {
   "metadata": {},
   "cell_type": "markdown",
   "source": "# Binder cordon probabilities"
  },
  {
   "metadata": {
    "trusted": true
   },
   "cell_type": "code",
   "source": "%matplotlib inline\nimport numpy as np\nimport matplotlib.pyplot as plt\nfrom scipy.stats import binom\nimport ipywidgets as W",
   "execution_count": 1,
   "outputs": []
  },
]
