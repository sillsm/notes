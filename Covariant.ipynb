{
 "cells": [
  {
   "cell_type": "markdown",
   "metadata": {},
   "source": [
    "# header text\n",
    "$$\\vec{R} = \\begin{bmatrix}\n",
    "           R_{x}\\\\\n",
    "           R_{y} \\\\\n",
    "           R_{z}\n",
    "         \\end{bmatrix}\n",
    "         =\\begin{bmatrix}\n",
    "           -  \\frac{cos\\theta}{sin\\theta}cos\\phi \\frac{\\partial }{\\partial \\phi}  - sin\\phi \\frac{\\partial }{\\partial \\theta}\n",
    "           \\\\\n",
    "           -  \\frac{cos\\theta}{sin\\theta}cos\\phi \\frac{\\partial }{\\partial \\phi}  + cos\\phi \\frac{\\partial }{\\partial \\theta} \n",
    "           \\\\\n",
    "           \\frac{\\partial }{\\partial \\phi} \n",
    "         \\end{bmatrix}\n",
    "         $$"
   ]
  },
  {
   "cell_type": "markdown",
   "metadata": {},
   "source": [
    "$$\n",
    "R_{\\alpha} = i L_{\\alpha}, where \\, \\alpha = x,y,z\n",
    "$$"
   ]
  },
  {
   "cell_type": "markdown",
   "metadata": {},
   "source": [
    "So the rotational gradient operator is now:"
   ]
  },
  {
   "cell_type": "markdown",
   "metadata": {},
   "source": [
    "\n"
   ]
  },
  {
   "cell_type": "code",
   "execution_count": 22,
   "metadata": {},
   "outputs": [
    {
     "name": "stdout",
     "output_type": "stream",
     "text": [
      "0 0 0 0 0\n",
      "0 0 1 -1 0\n",
      "0 0 1 0 0\n",
      "0 0 1 1 0\n",
      "1 -1 0 0 0\n",
      "1 -1 1 -1 sqrt(30)*exp(-4*I*phi)*Ynm(2, 2, theta, phi)/(10*sqrt(pi))\n",
      "1 -1 1 0 -sqrt(15)*exp(-2*I*phi)*Ynm(2, 1, theta, phi)/(10*sqrt(pi))\n",
      "1 -1 1 1 Ynm(0, 0, theta, phi)/sqrt(pi) + sqrt(5)*Ynm(2, 0, theta, phi)/(10*sqrt(pi))\n",
      "1 0 0 0 0\n",
      "1 0 1 -1 -sqrt(15)*exp(-2*I*phi)*Ynm(2, 1, theta, phi)/(10*sqrt(pi))\n",
      "1 0 1 0 -Ynm(0, 0, theta, phi)/sqrt(pi) + sqrt(5)*Ynm(2, 0, theta, phi)/(5*sqrt(pi))\n",
      "1 0 1 1 sqrt(15)*Ynm(2, 1, theta, phi)/(10*sqrt(pi))\n",
      "1 1 0 0 0\n",
      "1 1 1 -1 Ynm(0, 0, theta, phi)/sqrt(pi) + sqrt(5)*Ynm(2, 0, theta, phi)/(10*sqrt(pi))\n",
      "1 1 1 0 sqrt(15)*Ynm(2, 1, theta, phi)/(10*sqrt(pi))\n",
      "1 1 1 1 sqrt(30)*Ynm(2, 2, theta, phi)/(10*sqrt(pi))\n"
     ]
    }
   ],
   "source": [
    "for j in range(2):\n",
    "    for p in range(-j, j+1):\n",
    "        for l in range(2):\n",
    "            for m in range(-l, l+1):\n",
    "                print j, p, l, m, dot_rota_grad_SH(j, p, l, m, theta, phi).doit()"
   ]
  }
 ],
 "metadata": {
  "kernelspec": {
   "display_name": "Python 3",
   "language": "python",
   "name": "python3"
  },
  "language_info": {
   "codemirror_mode": {
    "name": "ipython",
    "version": 3
   },
   "file_extension": ".py",
   "mimetype": "text/x-python",
   "name": "python",
   "nbconvert_exporter": "python",
   "pygments_lexer": "ipython3",
   "version": "3.5.2"
  }
 },
 "nbformat": 4,
 "nbformat_minor": 1
}
