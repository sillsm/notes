{
 "cells": [
  {
   "cell_type": "markdown",
   "execution_count": null,
   "metadata": {},
   "outputs": [],
   "source": ["\n",
    "$$\\vec{R} = \\begin{bmatrix}\n",
    "           R_{x}\\\\\n",
    "           R_{y} \\\\\n",
    "           R_{z}\n",
    "         \\end{bmatrix}\n",
    "         =\\begin{bmatrix}\n",
    "           -  \\frac{cos\\theta}{sin\\theta}cos\\phi \\frac{\\partial }{\\partial \\phi}  - sin\\phi \\frac{\\partial }{\\partial \\theta}\n",
    "           \\\\\n",
    "           -  \\frac{cos\\theta}{sin\\theta}cos\\phi \\frac{\\partial }{\\partial \\phi}  + cos\\phi \\frac{\\partial }{\\partial \\theta} \n",
    "           \\\\\n",
    "           \\frac{\\partial }{\\partial \\phi} \n",
    "         \\end{bmatrix}\n",
    "         $$"
   ]
  },
 "metadata": {
  "kernelspec": {
   "display_name": "Python 3",
   "language": "python",
   "name": "python3"
  },
  "language_info": {
   "codemirror_mode": {
    "name": "ipython",
    "version": 3
   },
   "file_extension": ".py",
   "mimetype": "text/x-python",
   "name": "python",
   "nbconvert_exporter": "python",
   "pygments_lexer": "ipython3",
   "version": "3.8.3"
  }
 },
 "nbformat": 4,
 "nbformat_minor": 4
}
