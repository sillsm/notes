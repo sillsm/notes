print("hi")
$$
\frac{2}{3}
$$
